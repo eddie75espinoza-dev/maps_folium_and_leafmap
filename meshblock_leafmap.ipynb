{
 "cells": [
  {
   "cell_type": "code",
   "execution_count": 1,
   "metadata": {},
   "outputs": [],
   "source": [
    "import leafmap\n",
    "import geopandas as gpd"
   ]
  },
  {
   "cell_type": "code",
   "execution_count": 2,
   "metadata": {},
   "outputs": [],
   "source": [
    "base_map = leafmap.Map(\n",
    "    center=[-34.60361373973094, -58.38169521687419], \n",
    "    zoom=16, \n",
    "    # height=\"400px\", \n",
    "    # width=\"800px\",\n",
    "    draw_control=False,\n",
    "    measure_control=False,\n",
    "    fullscreen_control=False,\n",
    "    attribution_control=True,\n",
    ")"
   ]
  },
  {
   "cell_type": "code",
   "execution_count": 3,
   "metadata": {},
   "outputs": [],
   "source": [
    "base_map.add_basemap(\"HYBRID\")"
   ]
  },
  {
   "cell_type": "code",
   "execution_count": 4,
   "metadata": {},
   "outputs": [
    {
     "data": {
      "application/vnd.jupyter.widget-view+json": {
       "model_id": "835d4250d9744f5a86d3435425db2aee",
       "version_major": 2,
       "version_minor": 0
      },
      "text/plain": [
       "Map(center=[-34.60361373973094, -58.38169521687419], controls=(AttributionControl(options=['position', 'prefix…"
      ]
     },
     "execution_count": 4,
     "metadata": {},
     "output_type": "execute_result"
    }
   ],
   "source": [
    "base_map"
   ]
  },
  {
   "cell_type": "code",
   "execution_count": 5,
   "metadata": {},
   "outputs": [
    {
     "data": {
      "text/html": [
       "<div>\n",
       "<style scoped>\n",
       "    .dataframe tbody tr th:only-of-type {\n",
       "        vertical-align: middle;\n",
       "    }\n",
       "\n",
       "    .dataframe tbody tr th {\n",
       "        vertical-align: top;\n",
       "    }\n",
       "\n",
       "    .dataframe thead th {\n",
       "        text-align: right;\n",
       "    }\n",
       "</style>\n",
       "<table border=\"1\" class=\"dataframe\">\n",
       "  <thead>\n",
       "    <tr style=\"text-align: right;\">\n",
       "      <th></th>\n",
       "      <th>COD_2010</th>\n",
       "      <th>PROV_</th>\n",
       "      <th>DEPTO_</th>\n",
       "      <th>FRACC_</th>\n",
       "      <th>RADIO_</th>\n",
       "      <th>CODAGLO_1</th>\n",
       "      <th>CODAGLO_2</th>\n",
       "      <th>CODAGLO_3</th>\n",
       "      <th>CODAGLO_4</th>\n",
       "      <th>CODAGLO_5</th>\n",
       "      <th>geometry</th>\n",
       "    </tr>\n",
       "  </thead>\n",
       "  <tbody>\n",
       "    <tr>\n",
       "      <th>0</th>\n",
       "      <td>068051304</td>\n",
       "      <td>06</td>\n",
       "      <td>805</td>\n",
       "      <td>13</td>\n",
       "      <td>04</td>\n",
       "      <td>0001</td>\n",
       "      <td>NaN</td>\n",
       "      <td>NaN</td>\n",
       "      <td>NaN</td>\n",
       "      <td>NaN</td>\n",
       "      <td>POLYGON ((-58.63525 -34.44988, -58.63649 -34.4...</td>\n",
       "    </tr>\n",
       "    <tr>\n",
       "      <th>1</th>\n",
       "      <td>066381605</td>\n",
       "      <td>06</td>\n",
       "      <td>638</td>\n",
       "      <td>16</td>\n",
       "      <td>05</td>\n",
       "      <td>0001</td>\n",
       "      <td>NaN</td>\n",
       "      <td>NaN</td>\n",
       "      <td>NaN</td>\n",
       "      <td>NaN</td>\n",
       "      <td>POLYGON ((-58.91819 -34.46289, -58.91811 -34.4...</td>\n",
       "    </tr>\n",
       "    <tr>\n",
       "      <th>2</th>\n",
       "      <td>066381604</td>\n",
       "      <td>06</td>\n",
       "      <td>638</td>\n",
       "      <td>16</td>\n",
       "      <td>04</td>\n",
       "      <td>0001</td>\n",
       "      <td>NaN</td>\n",
       "      <td>NaN</td>\n",
       "      <td>NaN</td>\n",
       "      <td>NaN</td>\n",
       "      <td>MULTIPOLYGON (((-58.91558 -34.46721, -58.91550...</td>\n",
       "    </tr>\n",
       "    <tr>\n",
       "      <th>3</th>\n",
       "      <td>067490513</td>\n",
       "      <td>06</td>\n",
       "      <td>749</td>\n",
       "      <td>05</td>\n",
       "      <td>13</td>\n",
       "      <td>0001</td>\n",
       "      <td>NaN</td>\n",
       "      <td>NaN</td>\n",
       "      <td>NaN</td>\n",
       "      <td>NaN</td>\n",
       "      <td>POLYGON ((-58.55800 -34.44501, -58.55807 -34.4...</td>\n",
       "    </tr>\n",
       "    <tr>\n",
       "      <th>4</th>\n",
       "      <td>067490402</td>\n",
       "      <td>06</td>\n",
       "      <td>749</td>\n",
       "      <td>04</td>\n",
       "      <td>02</td>\n",
       "      <td>0001</td>\n",
       "      <td>NaN</td>\n",
       "      <td>NaN</td>\n",
       "      <td>NaN</td>\n",
       "      <td>NaN</td>\n",
       "      <td>POLYGON ((-58.54955 -34.44414, -58.54955 -34.4...</td>\n",
       "    </tr>\n",
       "  </tbody>\n",
       "</table>\n",
       "</div>"
      ],
      "text/plain": [
       "    COD_2010 PROV_ DEPTO_ FRACC_ RADIO_ CODAGLO_1 CODAGLO_2 CODAGLO_3  \\\n",
       "0  068051304    06    805     13     04      0001       NaN       NaN   \n",
       "1  066381605    06    638     16     05      0001       NaN       NaN   \n",
       "2  066381604    06    638     16     04      0001       NaN       NaN   \n",
       "3  067490513    06    749     05     13      0001       NaN       NaN   \n",
       "4  067490402    06    749     04     02      0001       NaN       NaN   \n",
       "\n",
       "  CODAGLO_4 CODAGLO_5                                           geometry  \n",
       "0       NaN       NaN  POLYGON ((-58.63525 -34.44988, -58.63649 -34.4...  \n",
       "1       NaN       NaN  POLYGON ((-58.91819 -34.46289, -58.91811 -34.4...  \n",
       "2       NaN       NaN  MULTIPOLYGON (((-58.91558 -34.46721, -58.91550...  \n",
       "3       NaN       NaN  POLYGON ((-58.55800 -34.44501, -58.55807 -34.4...  \n",
       "4       NaN       NaN  POLYGON ((-58.54955 -34.44414, -58.54955 -34.4...  "
      ]
     },
     "execution_count": 5,
     "metadata": {},
     "output_type": "execute_result"
    }
   ],
   "source": [
    "geo_meshblock = gpd.read_file('../radios_censales/RADIOS_2010_v2021.shp')\n",
    "geo_meshblock.head()"
   ]
  },
  {
   "cell_type": "code",
   "execution_count": 6,
   "metadata": {},
   "outputs": [],
   "source": [
    "df_caba = geo_meshblock[geo_meshblock.PROV_ == '02']\n",
    "gdf_caba = gpd.GeoDataFrame(data=df_caba, geometry='geometry')"
   ]
  },
  {
   "cell_type": "code",
   "execution_count": 7,
   "metadata": {},
   "outputs": [],
   "source": [
    "base_map.add_gdf(\n",
    "    gdf=gdf_caba,\n",
    "    style_function=lambda x:{\n",
    "        \"color\": \"red\",\n",
    "        \"opacity\": 0.8,\n",
    "        \"fillColor\": \"orange\",\n",
    "        \"fillOpacity\": 0.4\n",
    "    }\n",
    ")"
   ]
  },
  {
   "cell_type": "code",
   "execution_count": 8,
   "metadata": {},
   "outputs": [
    {
     "data": {
      "application/vnd.jupyter.widget-view+json": {
       "model_id": "7adf1b82bf244757a00c36fd56011b55",
       "version_major": 2,
       "version_minor": 0
      },
      "text/plain": [
       "Map(center=[-34.60174924049994, -58.37038839349995], controls=(ZoomControl(options=['position', 'zoom_in_text'…"
      ]
     },
     "execution_count": 8,
     "metadata": {},
     "output_type": "execute_result"
    }
   ],
   "source": [
    "def get_meshblock_map(meshblock_id: str, zoom_start: float = 16.2):\n",
    "    df_meshblock = geo_meshblock[geo_meshblock.COD_2010 == meshblock_id]\n",
    "    \n",
    "    # get bounds\n",
    "    bounds = df_meshblock.geometry.bounds\n",
    "    lon_min = bounds['minx'].values[0]\n",
    "    lat_min = bounds['miny'].values[0]\n",
    "    lon_max = bounds['maxx'].values[0]\n",
    "    lat_max = bounds['maxy'].values[0]\n",
    "    \n",
    "    center = [(lat_min + lat_max) / 2, (lon_min + lon_max) / 2]\n",
    "    \n",
    "    meshblock_map = leafmap.Map(\n",
    "        center=center, \n",
    "        zoom=zoom_start,\n",
    "        draw_control=False,\n",
    "        measure_control=False,\n",
    "        fullscreen_control=False,\n",
    "        attribution_control=False,\n",
    "        show_tooltip=False\n",
    "    )\n",
    "    \n",
    "    gdf_meshblock_filter = gpd.GeoDataFrame(data=df_meshblock, geometry='geometry')\n",
    "    \n",
    "    style = {\n",
    "        \"color\": \"red\",\n",
    "        \"opacity\": 0.8,\n",
    "        \"fillColor\": \"blue\",\n",
    "        \"fillOpacity\": 0.2\n",
    "    }\n",
    "    \n",
    "    meshblock_map.add_gdf(gdf_meshblock_filter, style=style)\n",
    "    \n",
    "    meshblock_map.add_basemap(\"HYBRID\")\n",
    "    \n",
    "    return meshblock_map\n",
    "\n",
    "# Example usage:\n",
    "meshblock_id = '020010914'\n",
    "map = get_meshblock_map(meshblock_id)\n",
    "\n",
    "# Convert the map to HTML\n",
    "# map.to_html(\"./static/1.html\")\n",
    "\n",
    "map\n"
   ]
  },
  {
   "cell_type": "code",
   "execution_count": 11,
   "metadata": {},
   "outputs": [
    {
     "data": {
      "application/vnd.jupyter.widget-view+json": {
       "model_id": "b70d061b03264811bc90a5270caff199",
       "version_major": 2,
       "version_minor": 0
      },
      "text/plain": [
       "Map(center=[-34.60174924049994, -58.37038839349995], controls=(ZoomControl(options=['position', 'zoom_in_text'…"
      ]
     },
     "execution_count": 11,
     "metadata": {},
     "output_type": "execute_result"
    }
   ],
   "source": [
    "m = leafmap.Map(center=[-34.60174924049994, -58.37038839349995], zoom=15)\n",
    "m.add_basemap(\"SATELLITE\")\n",
    "m"
   ]
  }
 ],
 "metadata": {
  "kernelspec": {
   "display_name": "Python 3",
   "language": "python",
   "name": "python3"
  },
  "language_info": {
   "codemirror_mode": {
    "name": "ipython",
    "version": 3
   },
   "file_extension": ".py",
   "mimetype": "text/x-python",
   "name": "python",
   "nbconvert_exporter": "python",
   "pygments_lexer": "ipython3",
   "version": "3.8.7"
  }
 },
 "nbformat": 4,
 "nbformat_minor": 2
}
